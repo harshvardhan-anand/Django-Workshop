{
 "cells": [
  {
   "cell_type": "code",
   "execution_count": 1,
   "metadata": {},
   "outputs": [],
   "source": [
    "import pymongo\n",
    "\n",
    "client  = pymongo.MongoClient('mongodb://localhost:27017/')\n",
    "\n",
    "db = client['TestDatabase']\n",
    "col = db['TestCollection']"
   ]
  },
  {
   "cell_type": "code",
   "execution_count": 2,
   "metadata": {},
   "outputs": [
    {
     "name": "stdout",
     "output_type": "stream",
     "text": [
      "{'_id': ObjectId('614dec9f67ea4ef5ab133cef'), 'name': 'Harshvardhan', 'task': 'Learn Django'}\n",
      "{'_id': ObjectId('614deca567ea4ef5ab133cf0'), 'name': 'Mohan1', 'task': 'Learn Django Basics'}\n",
      "{'_id': ObjectId('614deca567ea4ef5ab133cf1'), 'name': 'sohan', 'task': 'Learn Django Advance'}\n",
      "{'_id': ObjectId('614deca567ea4ef5ab133cf2'), 'name': 'Ram3', 'task': 'Learn Python'}\n",
      "{'_id': ObjectId('614decb93a5fb741d0e40c2c'), 'name': 'Harshvardhan', 'task': 'Learn Django'}\n",
      "{'_id': ObjectId('614decba3a5fb741d0e40c2d'), 'name': 'Mohan1', 'task': 'Learn Django Basics'}\n",
      "{'_id': ObjectId('614decba3a5fb741d0e40c2e'), 'name': 'sohan2', 'task': 'Learn Django Advance'}\n",
      "{'_id': ObjectId('614decba3a5fb741d0e40c2f'), 'name': 'Ram3', 'task': 'Learn Python'}\n",
      "{'_id': 1, 'name': 'Mohan1', 'task': 'Learn Django Basics'}\n",
      "{'_id': 2, 'name': 'sohan2', 'task': 'Learn Django Advance'}\n",
      "{'_id': 3, 'name': 'Ram3', 'task': 'Learn Python'}\n"
     ]
    }
   ],
   "source": [
    "for i  in col.find():\n",
    "    print(i)"
   ]
  },
  {
   "cell_type": "code",
   "execution_count": 3,
   "metadata": {},
   "outputs": [],
   "source": [
    "query = {\n",
    "    \"name\":\"Mohan\"\n",
    "}"
   ]
  },
  {
   "cell_type": "code",
   "execution_count": 4,
   "metadata": {},
   "outputs": [],
   "source": [
    "x = col.find(query)"
   ]
  },
  {
   "cell_type": "code",
   "execution_count": 5,
   "metadata": {},
   "outputs": [],
   "source": [
    "for i in x:\n",
    "    print(i)"
   ]
  },
  {
   "cell_type": "code",
   "execution_count": 6,
   "metadata": {},
   "outputs": [],
   "source": [
    "# col.update_one(query, new_value)"
   ]
  },
  {
   "cell_type": "code",
   "execution_count": 7,
   "metadata": {},
   "outputs": [
    {
     "data": {
      "text/plain": [
       "<pymongo.results.UpdateResult at 0x1c6c2313080>"
      ]
     },
     "execution_count": 7,
     "metadata": {},
     "output_type": "execute_result"
    }
   ],
   "source": [
    "new_value = {\n",
    "    \"$set\":{\n",
    "        \"name\":\"Mohan1\"\n",
    "    }\n",
    "}\n",
    "\n",
    "col.update_one(query, new_value)"
   ]
  },
  {
   "cell_type": "code",
   "execution_count": 8,
   "metadata": {},
   "outputs": [
    {
     "name": "stdout",
     "output_type": "stream",
     "text": [
      "{'_id': ObjectId('614deca567ea4ef5ab133cf0'), 'name': 'Mohan1', 'task': 'Learn Django Basics'}\n",
      "{'_id': ObjectId('614decba3a5fb741d0e40c2d'), 'name': 'Mohan1', 'task': 'Learn Django Basics'}\n",
      "{'_id': 1, 'name': 'Mohan1', 'task': 'Learn Django Basics'}\n"
     ]
    }
   ],
   "source": [
    "x = col.find({\n",
    "    \"name\":\"Mohan1\"\n",
    "})\n",
    "for i in x:\n",
    "    print(i)"
   ]
  },
  {
   "cell_type": "markdown",
   "metadata": {},
   "source": [
    "# Update Many"
   ]
  },
  {
   "cell_type": "code",
   "execution_count": 13,
   "metadata": {},
   "outputs": [
    {
     "data": {
      "text/plain": [
       "<pymongo.results.UpdateResult at 0x1c6c2324400>"
      ]
     },
     "execution_count": 13,
     "metadata": {},
     "output_type": "execute_result"
    }
   ],
   "source": [
    "query = {\n",
    "    \"name\":\"Mohan1\"\n",
    "}\n",
    "\n",
    "new_value = {\n",
    "    \"$set\":{\n",
    "        \"name\":\"Mohan234\"\n",
    "    }\n",
    "}\n",
    "\n",
    "col.update_many(query, new_value)"
   ]
  },
  {
   "cell_type": "code",
   "execution_count": 12,
   "metadata": {},
   "outputs": [
    {
     "name": "stdout",
     "output_type": "stream",
     "text": [
      "{'_id': ObjectId('614dec9f67ea4ef5ab133cef'), 'name': 'Harshvardhan', 'task': 'Learn Django'}\n",
      "{'_id': ObjectId('614deca567ea4ef5ab133cf0'), 'name': 'Mohan234', 'task': 'Learn Django Basics'}\n",
      "{'_id': ObjectId('614deca567ea4ef5ab133cf1'), 'name': 'sohan', 'task': 'Learn Django Advance'}\n",
      "{'_id': ObjectId('614deca567ea4ef5ab133cf2'), 'name': 'Ram3', 'task': 'Learn Python'}\n",
      "{'_id': ObjectId('614decb93a5fb741d0e40c2c'), 'name': 'Harshvardhan', 'task': 'Learn Django'}\n",
      "{'_id': ObjectId('614decba3a5fb741d0e40c2d'), 'name': 'Mohan234', 'task': 'Learn Django Basics'}\n",
      "{'_id': ObjectId('614decba3a5fb741d0e40c2e'), 'name': 'sohan2', 'task': 'Learn Django Advance'}\n",
      "{'_id': ObjectId('614decba3a5fb741d0e40c2f'), 'name': 'Ram3', 'task': 'Learn Python'}\n",
      "{'_id': 1, 'name': 'Mohan234', 'task': 'Learn Django Basics'}\n",
      "{'_id': 2, 'name': 'sohan2', 'task': 'Learn Django Advance'}\n",
      "{'_id': 3, 'name': 'Ram3', 'task': 'Learn Python'}\n"
     ]
    }
   ],
   "source": [
    "for i in col.find():\n",
    "    print(i)"
   ]
  }
 ],
 "metadata": {
  "kernelspec": {
   "display_name": "Python 3",
   "language": "python",
   "name": "python3"
  },
  "language_info": {
   "codemirror_mode": {
    "name": "ipython",
    "version": 3
   },
   "file_extension": ".py",
   "mimetype": "text/x-python",
   "name": "python",
   "nbconvert_exporter": "python",
   "pygments_lexer": "ipython3",
   "version": "3.8.3"
  }
 },
 "nbformat": 4,
 "nbformat_minor": 4
}
