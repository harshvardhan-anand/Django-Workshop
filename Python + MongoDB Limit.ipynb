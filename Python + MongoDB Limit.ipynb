{
 "cells": [
  {
   "cell_type": "code",
   "execution_count": 1,
   "metadata": {},
   "outputs": [],
   "source": [
    "import pymongo\n",
    "\n",
    "client  = pymongo.MongoClient('mongodb://localhost:27017/')\n",
    "\n",
    "db = client['TestDatabase']\n",
    "col = db['TestCollection']"
   ]
  },
  {
   "cell_type": "code",
   "execution_count": 2,
   "metadata": {},
   "outputs": [],
   "source": [
    "res = col.find().limit(3) # Limit results to 3"
   ]
  },
  {
   "cell_type": "code",
   "execution_count": 3,
   "metadata": {},
   "outputs": [
    {
     "name": "stdout",
     "output_type": "stream",
     "text": [
      "{'_id': ObjectId('614dec9f67ea4ef5ab133cef'), 'name': 'Harshvardhan', 'task': 'Learn Django'}\n",
      "{'_id': ObjectId('614deca567ea4ef5ab133cf0'), 'name': 'Mohan234', 'task': 'Learn Django Basics'}\n",
      "{'_id': ObjectId('614deca567ea4ef5ab133cf1'), 'name': 'sohan', 'task': 'Learn Django Advance'}\n"
     ]
    }
   ],
   "source": [
    "for i in res:\n",
    "    print(i)"
   ]
  },
  {
   "cell_type": "code",
   "execution_count": 4,
   "metadata": {},
   "outputs": [
    {
     "name": "stdout",
     "output_type": "stream",
     "text": [
      "{'_id': ObjectId('614dec9f67ea4ef5ab133cef'), 'name': 'Harshvardhan', 'task': 'Learn Django'}\n",
      "{'_id': ObjectId('614deca567ea4ef5ab133cf0'), 'name': 'Mohan234', 'task': 'Learn Django Basics'}\n",
      "{'_id': ObjectId('614deca567ea4ef5ab133cf1'), 'name': 'sohan', 'task': 'Learn Django Advance'}\n",
      "{'_id': ObjectId('614deca567ea4ef5ab133cf2'), 'name': 'Ram3', 'task': 'Learn Python'}\n",
      "{'_id': ObjectId('614decb93a5fb741d0e40c2c'), 'name': 'Harshvardhan', 'task': 'Learn Django'}\n",
      "{'_id': ObjectId('614decba3a5fb741d0e40c2d'), 'name': 'Mohan234', 'task': 'Learn Django Basics'}\n",
      "{'_id': ObjectId('614decba3a5fb741d0e40c2e'), 'name': 'sohan2', 'task': 'Learn Django Advance'}\n",
      "{'_id': ObjectId('614decba3a5fb741d0e40c2f'), 'name': 'Ram3', 'task': 'Learn Python'}\n",
      "{'_id': 1, 'name': 'Mohan234', 'task': 'Learn Django Basics'}\n",
      "{'_id': 2, 'name': 'sohan2', 'task': 'Learn Django Advance'}\n",
      "{'_id': 3, 'name': 'Ram3', 'task': 'Learn Python'}\n"
     ]
    }
   ],
   "source": [
    "for i in col.find():\n",
    "    print(i)"
   ]
  }
 ],
 "metadata": {
  "kernelspec": {
   "display_name": "Python 3",
   "language": "python",
   "name": "python3"
  },
  "language_info": {
   "codemirror_mode": {
    "name": "ipython",
    "version": 3
   },
   "file_extension": ".py",
   "mimetype": "text/x-python",
   "name": "python",
   "nbconvert_exporter": "python",
   "pygments_lexer": "ipython3",
   "version": "3.8.3"
  }
 },
 "nbformat": 4,
 "nbformat_minor": 4
}
