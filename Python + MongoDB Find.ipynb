{
 "cells": [
  {
   "cell_type": "code",
   "execution_count": 1,
   "metadata": {},
   "outputs": [],
   "source": [
    "import pymongo\n",
    "\n",
    "client  = pymongo.MongoClient('mongodb://localhost:27017/')\n",
    "\n",
    "db = client['TestDatabase']\n",
    "col = db['TestCollection']"
   ]
  },
  {
   "cell_type": "code",
   "execution_count": 2,
   "metadata": {},
   "outputs": [],
   "source": [
    "data = col.find_one()"
   ]
  },
  {
   "cell_type": "code",
   "execution_count": 3,
   "metadata": {},
   "outputs": [
    {
     "data": {
      "text/plain": [
       "{'_id': ObjectId('614dd4ec4e4a2ddffc2c9f66'),\n",
       " 'name': 'Harshvardhan',\n",
       " 'task': 'Learn Django'}"
      ]
     },
     "execution_count": 3,
     "metadata": {},
     "output_type": "execute_result"
    }
   ],
   "source": [
    "data"
   ]
  },
  {
   "cell_type": "code",
   "execution_count": 4,
   "metadata": {},
   "outputs": [],
   "source": [
    "data = col.find()"
   ]
  },
  {
   "cell_type": "code",
   "execution_count": 5,
   "metadata": {},
   "outputs": [
    {
     "data": {
      "text/plain": [
       "<pymongo.cursor.Cursor at 0x1f90cb6b8b0>"
      ]
     },
     "execution_count": 5,
     "metadata": {},
     "output_type": "execute_result"
    }
   ],
   "source": [
    "data"
   ]
  },
  {
   "cell_type": "code",
   "execution_count": 6,
   "metadata": {},
   "outputs": [
    {
     "name": "stdout",
     "output_type": "stream",
     "text": [
      "{'_id': ObjectId('614dd4ec4e4a2ddffc2c9f66'), 'name': 'Harshvardhan', 'task': 'Learn Django'}\n",
      "{'_id': ObjectId('614dd5924e4a2ddffc2c9f67'), 'name': 'Mohan', 'task': 'Learn Django Basics'}\n",
      "{'_id': ObjectId('614dd5924e4a2ddffc2c9f68'), 'name': 'sohan', 'task': 'Learn Django Advance'}\n",
      "{'_id': ObjectId('614dd5924e4a2ddffc2c9f69'), 'name': 'Ram', 'task': 'Learn Python'}\n",
      "{'_id': ObjectId('614dd5b24e4a2ddffc2c9f6a'), 'name': 'Mohan1', 'task': 'Learn Django Basics'}\n",
      "{'_id': ObjectId('614dd5b24e4a2ddffc2c9f6b'), 'name': 'sohan2', 'task': 'Learn Django Advance'}\n",
      "{'_id': ObjectId('614dd5b24e4a2ddffc2c9f6c'), 'name': 'Ram3', 'task': 'Learn Python'}\n",
      "{'_id': 1, 'name': 'Mohan1', 'task': 'Learn Django Basics'}\n",
      "{'_id': 2, 'name': 'sohan2', 'task': 'Learn Django Advance'}\n",
      "{'_id': 3, 'name': 'Ram3', 'task': 'Learn Python'}\n"
     ]
    }
   ],
   "source": [
    "for i in data:\n",
    "    print(i)"
   ]
  },
  {
   "cell_type": "code",
   "execution_count": 7,
   "metadata": {},
   "outputs": [],
   "source": [
    "query = {\n",
    "    \"name\":\"Mohan\"\n",
    "}"
   ]
  },
  {
   "cell_type": "code",
   "execution_count": 8,
   "metadata": {},
   "outputs": [],
   "source": [
    "data = col.find(query)"
   ]
  },
  {
   "cell_type": "code",
   "execution_count": 9,
   "metadata": {},
   "outputs": [
    {
     "data": {
      "text/plain": [
       "<pymongo.cursor.Cursor at 0x1f90cb6b310>"
      ]
     },
     "execution_count": 9,
     "metadata": {},
     "output_type": "execute_result"
    }
   ],
   "source": [
    "data"
   ]
  },
  {
   "cell_type": "code",
   "execution_count": 10,
   "metadata": {},
   "outputs": [
    {
     "name": "stdout",
     "output_type": "stream",
     "text": [
      "{'_id': ObjectId('614dd5924e4a2ddffc2c9f67'), 'name': 'Mohan', 'task': 'Learn Django Basics'}\n"
     ]
    }
   ],
   "source": [
    "for i in data:\n",
    "    print(i)"
   ]
  },
  {
   "cell_type": "code",
   "execution_count": 11,
   "metadata": {},
   "outputs": [],
   "source": [
    "data = col.find(query, {\n",
    "    \"_id\":0, \"name\":0\n",
    "})"
   ]
  },
  {
   "cell_type": "code",
   "execution_count": 12,
   "metadata": {},
   "outputs": [
    {
     "name": "stdout",
     "output_type": "stream",
     "text": [
      "{'task': 'Learn Django Basics'}\n"
     ]
    }
   ],
   "source": [
    "for i in data:\n",
    "    print(i)"
   ]
  }
 ],
 "metadata": {
  "kernelspec": {
   "display_name": "Python 3",
   "language": "python",
   "name": "python3"
  },
  "language_info": {
   "codemirror_mode": {
    "name": "ipython",
    "version": 3
   },
   "file_extension": ".py",
   "mimetype": "text/x-python",
   "name": "python",
   "nbconvert_exporter": "python",
   "pygments_lexer": "ipython3",
   "version": "3.8.3"
  }
 },
 "nbformat": 4,
 "nbformat_minor": 4
}
