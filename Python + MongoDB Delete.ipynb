{
 "cells": [
  {
   "cell_type": "code",
   "execution_count": 1,
   "metadata": {},
   "outputs": [],
   "source": [
    "import pymongo\n",
    "\n",
    "client  = pymongo.MongoClient('mongodb://localhost:27017/')\n",
    "\n",
    "db = client['TestDatabase']\n",
    "col = db['TestCollection']"
   ]
  },
  {
   "cell_type": "code",
   "execution_count": 2,
   "metadata": {
    "scrolled": true
   },
   "outputs": [
    {
     "name": "stdout",
     "output_type": "stream",
     "text": [
      "{'_id': ObjectId('614de8eb4e4a2ddffc2c9f6e'), 'name': 'Harshvardhan', 'task': 'Learn Django'}\n",
      "{'_id': ObjectId('614de8ec4e4a2ddffc2c9f6f'), 'name': 'Mohan1', 'task': 'Learn Django Basics'}\n",
      "{'_id': ObjectId('614de8ec4e4a2ddffc2c9f70'), 'name': 'sohan2', 'task': 'Learn Django Advance'}\n",
      "{'_id': ObjectId('614de8ec4e4a2ddffc2c9f71'), 'name': 'Ram3', 'task': 'Learn Python'}\n",
      "{'_id': 1, 'name': 'Mohan1', 'task': 'Learn Django Basics'}\n",
      "{'_id': 2, 'name': 'sohan2', 'task': 'Learn Django Advance'}\n",
      "{'_id': 3, 'name': 'Ram3', 'task': 'Learn Python'}\n"
     ]
    }
   ],
   "source": [
    "for i in col.find():\n",
    "    print(i)"
   ]
  },
  {
   "cell_type": "code",
   "execution_count": 3,
   "metadata": {},
   "outputs": [],
   "source": [
    "query = {\n",
    "    'name':'Mohan1'\n",
    "}"
   ]
  },
  {
   "cell_type": "code",
   "execution_count": 4,
   "metadata": {},
   "outputs": [
    {
     "name": "stdout",
     "output_type": "stream",
     "text": [
      "{'_id': ObjectId('614de8ec4e4a2ddffc2c9f6f'), 'name': 'Mohan1', 'task': 'Learn Django Basics'}\n",
      "{'_id': 1, 'name': 'Mohan1', 'task': 'Learn Django Basics'}\n"
     ]
    }
   ],
   "source": [
    "x = col.find(query)\n",
    "\n",
    "for i in x:\n",
    "    print(i)"
   ]
  },
  {
   "cell_type": "code",
   "execution_count": 5,
   "metadata": {},
   "outputs": [
    {
     "data": {
      "text/plain": [
       "<pymongo.results.DeleteResult at 0x1cae36977c0>"
      ]
     },
     "execution_count": 5,
     "metadata": {},
     "output_type": "execute_result"
    }
   ],
   "source": [
    "col.delete_one(query)"
   ]
  },
  {
   "cell_type": "code",
   "execution_count": 6,
   "metadata": {},
   "outputs": [
    {
     "name": "stdout",
     "output_type": "stream",
     "text": [
      "{'_id': 1, 'name': 'Mohan1', 'task': 'Learn Django Basics'}\n"
     ]
    }
   ],
   "source": [
    "x = col.find(query)\n",
    "\n",
    "for i in x:\n",
    "    print(i)"
   ]
  },
  {
   "cell_type": "code",
   "execution_count": 7,
   "metadata": {},
   "outputs": [
    {
     "data": {
      "text/plain": [
       "<pymongo.results.DeleteResult at 0x1cae36b4fc0>"
      ]
     },
     "execution_count": 7,
     "metadata": {},
     "output_type": "execute_result"
    }
   ],
   "source": [
    "col.delete_one(query)"
   ]
  },
  {
   "cell_type": "code",
   "execution_count": 8,
   "metadata": {},
   "outputs": [],
   "source": [
    "x = col.find(query)\n",
    "\n",
    "for i in x:\n",
    "    print(i)"
   ]
  },
  {
   "cell_type": "markdown",
   "metadata": {},
   "source": [
    "# Delete Many"
   ]
  },
  {
   "cell_type": "code",
   "execution_count": 9,
   "metadata": {},
   "outputs": [],
   "source": [
    "query = {\n",
    "    \"name\":{\n",
    "        \"$regex\":\"^R\"\n",
    "    }\n",
    "}"
   ]
  },
  {
   "cell_type": "code",
   "execution_count": 10,
   "metadata": {},
   "outputs": [
    {
     "name": "stdout",
     "output_type": "stream",
     "text": [
      "{'_id': ObjectId('614de8ec4e4a2ddffc2c9f71'), 'name': 'Ram3', 'task': 'Learn Python'}\n",
      "{'_id': 3, 'name': 'Ram3', 'task': 'Learn Python'}\n"
     ]
    }
   ],
   "source": [
    "for i in col.find(query):\n",
    "    print(i)"
   ]
  },
  {
   "cell_type": "code",
   "execution_count": 11,
   "metadata": {},
   "outputs": [],
   "source": [
    "deleted = col.delete_many(query)"
   ]
  },
  {
   "cell_type": "code",
   "execution_count": 12,
   "metadata": {},
   "outputs": [
    {
     "data": {
      "text/plain": [
       "<pymongo.results.DeleteResult at 0x1cae36ce980>"
      ]
     },
     "execution_count": 12,
     "metadata": {},
     "output_type": "execute_result"
    }
   ],
   "source": [
    "deleted"
   ]
  },
  {
   "cell_type": "code",
   "execution_count": 13,
   "metadata": {},
   "outputs": [
    {
     "data": {
      "text/plain": [
       "2"
      ]
     },
     "execution_count": 13,
     "metadata": {},
     "output_type": "execute_result"
    }
   ],
   "source": [
    "deleted.deleted_count"
   ]
  },
  {
   "cell_type": "code",
   "execution_count": 14,
   "metadata": {},
   "outputs": [],
   "source": [
    "for i in col.find(query):\n",
    "    print(i)"
   ]
  },
  {
   "cell_type": "markdown",
   "metadata": {},
   "source": [
    "# Delete All"
   ]
  },
  {
   "cell_type": "code",
   "execution_count": 15,
   "metadata": {},
   "outputs": [
    {
     "name": "stdout",
     "output_type": "stream",
     "text": [
      "{'_id': ObjectId('614de8eb4e4a2ddffc2c9f6e'), 'name': 'Harshvardhan', 'task': 'Learn Django'}\n",
      "{'_id': ObjectId('614de8ec4e4a2ddffc2c9f70'), 'name': 'sohan2', 'task': 'Learn Django Advance'}\n",
      "{'_id': 2, 'name': 'sohan2', 'task': 'Learn Django Advance'}\n"
     ]
    }
   ],
   "source": [
    "for i in col.find():\n",
    "    print(i)"
   ]
  },
  {
   "cell_type": "code",
   "execution_count": 16,
   "metadata": {},
   "outputs": [],
   "source": [
    "delted = col.delete_many({})"
   ]
  },
  {
   "cell_type": "code",
   "execution_count": 17,
   "metadata": {},
   "outputs": [
    {
     "data": {
      "text/plain": [
       "3"
      ]
     },
     "execution_count": 17,
     "metadata": {},
     "output_type": "execute_result"
    }
   ],
   "source": [
    "delted.deleted_count"
   ]
  }
 ],
 "metadata": {
  "kernelspec": {
   "display_name": "Python 3",
   "language": "python",
   "name": "python3"
  },
  "language_info": {
   "codemirror_mode": {
    "name": "ipython",
    "version": 3
   },
   "file_extension": ".py",
   "mimetype": "text/x-python",
   "name": "python",
   "nbconvert_exporter": "python",
   "pygments_lexer": "ipython3",
   "version": "3.8.3"
  }
 },
 "nbformat": 4,
 "nbformat_minor": 4
}
