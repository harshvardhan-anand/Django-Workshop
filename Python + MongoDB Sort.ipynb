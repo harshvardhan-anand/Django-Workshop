{
 "cells": [
  {
   "cell_type": "code",
   "execution_count": 1,
   "metadata": {},
   "outputs": [],
   "source": [
    "import pymongo\n",
    "\n",
    "client  = pymongo.MongoClient('mongodb://localhost:27017/')\n",
    "\n",
    "db = client['TestDatabase']\n",
    "col = db['TestCollection']"
   ]
  },
  {
   "cell_type": "code",
   "execution_count": 2,
   "metadata": {},
   "outputs": [
    {
     "data": {
      "text/plain": [
       "<pymongo.cursor.Cursor at 0x285234cc4c0>"
      ]
     },
     "execution_count": 2,
     "metadata": {},
     "output_type": "execute_result"
    }
   ],
   "source": [
    "col.find()"
   ]
  },
  {
   "cell_type": "code",
   "execution_count": 3,
   "metadata": {},
   "outputs": [
    {
     "name": "stdout",
     "output_type": "stream",
     "text": [
      "{'_id': ObjectId('614dd4ec4e4a2ddffc2c9f66'), 'name': 'Harshvardhan', 'task': 'Learn Django'}\n",
      "{'_id': ObjectId('614dd5924e4a2ddffc2c9f67'), 'name': 'Mohan', 'task': 'Learn Django Basics'}\n",
      "{'_id': ObjectId('614dd5924e4a2ddffc2c9f68'), 'name': 'sohan', 'task': 'Learn Django Advance'}\n",
      "{'_id': ObjectId('614dd5924e4a2ddffc2c9f69'), 'name': 'Ram', 'task': 'Learn Python'}\n",
      "{'_id': ObjectId('614dd5b24e4a2ddffc2c9f6a'), 'name': 'Mohan1', 'task': 'Learn Django Basics'}\n",
      "{'_id': ObjectId('614dd5b24e4a2ddffc2c9f6b'), 'name': 'sohan2', 'task': 'Learn Django Advance'}\n",
      "{'_id': ObjectId('614dd5b24e4a2ddffc2c9f6c'), 'name': 'Ram3', 'task': 'Learn Python'}\n",
      "{'_id': 1, 'name': 'Mohan1', 'task': 'Learn Django Basics'}\n",
      "{'_id': 2, 'name': 'sohan2', 'task': 'Learn Django Advance'}\n",
      "{'_id': 3, 'name': 'Ram3', 'task': 'Learn Python'}\n"
     ]
    }
   ],
   "source": [
    "for i in col.find():\n",
    "    print(i)"
   ]
  },
  {
   "cell_type": "code",
   "execution_count": 4,
   "metadata": {},
   "outputs": [
    {
     "data": {
      "text/plain": [
       "<pymongo.cursor.Cursor at 0x285234ccbe0>"
      ]
     },
     "execution_count": 4,
     "metadata": {},
     "output_type": "execute_result"
    }
   ],
   "source": [
    "col.find().sort(\"name\")"
   ]
  },
  {
   "cell_type": "code",
   "execution_count": 5,
   "metadata": {},
   "outputs": [
    {
     "name": "stdout",
     "output_type": "stream",
     "text": [
      "{'_id': ObjectId('614dd4ec4e4a2ddffc2c9f66'), 'name': 'Harshvardhan', 'task': 'Learn Django'}\n",
      "{'_id': ObjectId('614dd5924e4a2ddffc2c9f67'), 'name': 'Mohan', 'task': 'Learn Django Basics'}\n",
      "{'_id': ObjectId('614dd5b24e4a2ddffc2c9f6a'), 'name': 'Mohan1', 'task': 'Learn Django Basics'}\n",
      "{'_id': 1, 'name': 'Mohan1', 'task': 'Learn Django Basics'}\n",
      "{'_id': ObjectId('614dd5924e4a2ddffc2c9f69'), 'name': 'Ram', 'task': 'Learn Python'}\n",
      "{'_id': ObjectId('614dd5b24e4a2ddffc2c9f6c'), 'name': 'Ram3', 'task': 'Learn Python'}\n",
      "{'_id': 3, 'name': 'Ram3', 'task': 'Learn Python'}\n",
      "{'_id': ObjectId('614dd5924e4a2ddffc2c9f68'), 'name': 'sohan', 'task': 'Learn Django Advance'}\n",
      "{'_id': ObjectId('614dd5b24e4a2ddffc2c9f6b'), 'name': 'sohan2', 'task': 'Learn Django Advance'}\n",
      "{'_id': 2, 'name': 'sohan2', 'task': 'Learn Django Advance'}\n"
     ]
    }
   ],
   "source": [
    "for i in col.find().sort(\"name\"):\n",
    "    print(i)"
   ]
  },
  {
   "cell_type": "markdown",
   "metadata": {},
   "source": [
    "# Ascending Order"
   ]
  },
  {
   "cell_type": "code",
   "execution_count": 7,
   "metadata": {},
   "outputs": [
    {
     "name": "stdout",
     "output_type": "stream",
     "text": [
      "{'_id': ObjectId('614dd4ec4e4a2ddffc2c9f66'), 'name': 'Harshvardhan', 'task': 'Learn Django'}\n",
      "{'_id': ObjectId('614dd5924e4a2ddffc2c9f67'), 'name': 'Mohan', 'task': 'Learn Django Basics'}\n",
      "{'_id': ObjectId('614dd5b24e4a2ddffc2c9f6a'), 'name': 'Mohan1', 'task': 'Learn Django Basics'}\n",
      "{'_id': 1, 'name': 'Mohan1', 'task': 'Learn Django Basics'}\n",
      "{'_id': ObjectId('614dd5924e4a2ddffc2c9f69'), 'name': 'Ram', 'task': 'Learn Python'}\n",
      "{'_id': ObjectId('614dd5b24e4a2ddffc2c9f6c'), 'name': 'Ram3', 'task': 'Learn Python'}\n",
      "{'_id': 3, 'name': 'Ram3', 'task': 'Learn Python'}\n",
      "{'_id': ObjectId('614dd5924e4a2ddffc2c9f68'), 'name': 'sohan', 'task': 'Learn Django Advance'}\n",
      "{'_id': ObjectId('614dd5b24e4a2ddffc2c9f6b'), 'name': 'sohan2', 'task': 'Learn Django Advance'}\n",
      "{'_id': 2, 'name': 'sohan2', 'task': 'Learn Django Advance'}\n"
     ]
    }
   ],
   "source": [
    "for i in col.find().sort(\"name\", 1):\n",
    "    print(i)"
   ]
  },
  {
   "cell_type": "markdown",
   "metadata": {},
   "source": [
    "# Descending Order"
   ]
  },
  {
   "cell_type": "code",
   "execution_count": 9,
   "metadata": {},
   "outputs": [
    {
     "name": "stdout",
     "output_type": "stream",
     "text": [
      "{'_id': ObjectId('614dd5b24e4a2ddffc2c9f6b'), 'name': 'sohan2', 'task': 'Learn Django Advance'}\n",
      "{'_id': 2, 'name': 'sohan2', 'task': 'Learn Django Advance'}\n",
      "{'_id': ObjectId('614dd5924e4a2ddffc2c9f68'), 'name': 'sohan', 'task': 'Learn Django Advance'}\n",
      "{'_id': ObjectId('614dd5b24e4a2ddffc2c9f6c'), 'name': 'Ram3', 'task': 'Learn Python'}\n",
      "{'_id': 3, 'name': 'Ram3', 'task': 'Learn Python'}\n",
      "{'_id': ObjectId('614dd5924e4a2ddffc2c9f69'), 'name': 'Ram', 'task': 'Learn Python'}\n",
      "{'_id': ObjectId('614dd5b24e4a2ddffc2c9f6a'), 'name': 'Mohan1', 'task': 'Learn Django Basics'}\n",
      "{'_id': 1, 'name': 'Mohan1', 'task': 'Learn Django Basics'}\n",
      "{'_id': ObjectId('614dd5924e4a2ddffc2c9f67'), 'name': 'Mohan', 'task': 'Learn Django Basics'}\n",
      "{'_id': ObjectId('614dd4ec4e4a2ddffc2c9f66'), 'name': 'Harshvardhan', 'task': 'Learn Django'}\n"
     ]
    }
   ],
   "source": [
    "for i in col.find().sort(\"name\", -1):\n",
    "    print(i)"
   ]
  }
 ],
 "metadata": {
  "kernelspec": {
   "display_name": "Python 3",
   "language": "python",
   "name": "python3"
  },
  "language_info": {
   "codemirror_mode": {
    "name": "ipython",
    "version": 3
   },
   "file_extension": ".py",
   "mimetype": "text/x-python",
   "name": "python",
   "nbconvert_exporter": "python",
   "pygments_lexer": "ipython3",
   "version": "3.8.3"
  }
 },
 "nbformat": 4,
 "nbformat_minor": 4
}
